{
  "nbformat": 4,
  "nbformat_minor": 0,
  "metadata": {
    "colab": {
      "provenance": [],
      "gpuType": "T4"
    },
    "kernelspec": {
      "name": "python3",
      "display_name": "Python 3"
    },
    "language_info": {
      "name": "python"
    },
    "accelerator": "GPU"
  },
  "cells": [
    {
      "cell_type": "code",
      "execution_count": 1,
      "metadata": {
        "colab": {
          "base_uri": "https://localhost:8080/"
        },
        "id": "w54ytA2-AXy3",
        "outputId": "3577bd5f-6854-4ee3-f10e-f9ce8a1dea7d"
      },
      "outputs": [
        {
          "output_type": "stream",
          "name": "stdout",
          "text": [
            "Mounted at /content/drive\n"
          ]
        }
      ],
      "source": [
        "from google.colab import drive\n",
        "drive.mount('/content/drive')"
      ]
    },
    {
      "cell_type": "code",
      "source": [
        "import pandas as pd\n",
        "import numpy as np\n",
        "import matplotlib.pyplot as plt"
      ],
      "metadata": {
        "id": "IkUl8AdeGiM7"
      },
      "execution_count": 2,
      "outputs": []
    },
    {
      "cell_type": "code",
      "source": [
        "from tensorflow import keras\n",
        "\n",
        "train_ds = keras.utils.image_dataset_from_directory(\n",
        "    '/content/drive/MyDrive/dino-dragon.zip (Unzipped Files)/train',\n",
        "    labels=\"inferred\",\n",
        "    label_mode='binary',\n",
        "    color_mode='rgb',\n",
        "    batch_size=32,\n",
        "    image_size=(150, 150)\n",
        ")\n",
        "\n",
        "val_ds = keras.utils.image_dataset_from_directory(\n",
        "    \"/content/drive/MyDrive/dino-dragon.zip (Unzipped Files)/test\",\n",
        "    labels=\"inferred\",\n",
        "    label_mode='binary',\n",
        "    color_mode='rgb',\n",
        "    batch_size=32,\n",
        "    image_size=(150, 150)\n",
        ")\n",
        "\n",
        "model = keras.Sequential()\n",
        "model = keras.Sequential([\n",
        "    keras.Input(shape=(150, 150, 3)),\n",
        "    keras.layers.Rescaling(scale=1./255),\n",
        "    keras.layers.Conv2D(32, (3, 3), activation='relu'),\n",
        "    keras.layers.Dropout(0.4),\n",
        "    keras.layers.LayerNormalization(axis=-1),\n",
        "    keras.layers.MaxPooling2D(pool_size=(2, 2)),\n",
        "    keras.layers.Flatten(),\n",
        "    keras.layers.Dense(64, activation='relu'),\n",
        "    keras.layers.Dense(1, activation='sigmoid')\n",
        "])\n",
        "\n",
        "opt = keras.optimizers.SGD(learning_rate=0.002, momentum=0.8)\n",
        "loss = keras.losses.BinaryCrossentropy(from_logits=False)\n",
        "model.compile(optimizer=opt, loss=loss, metrics=[keras.metrics.BinaryAccuracy(threshold=0.5)])\n",
        "history = model.fit(train_ds, epochs=20, validation_data=val_ds)"
      ],
      "metadata": {
        "colab": {
          "base_uri": "https://localhost:8080/"
        },
        "id": "NHmh8wEBjI53",
        "outputId": "c017f1a9-aa47-4727-ae52-6fc301f88675"
      },
      "execution_count": 3,
      "outputs": [
        {
          "output_type": "stream",
          "name": "stdout",
          "text": [
            "Found 1594 files belonging to 2 classes.\n",
            "Found 394 files belonging to 2 classes.\n",
            "Epoch 1/20\n",
            "50/50 [==============================] - 178s 3s/step - loss: 1.0099 - binary_accuracy: 0.5207 - val_loss: 0.6924 - val_binary_accuracy: 0.5482\n",
            "Epoch 2/20\n",
            "50/50 [==============================] - 12s 203ms/step - loss: 0.6930 - binary_accuracy: 0.4962 - val_loss: 0.6953 - val_binary_accuracy: 0.4975\n",
            "Epoch 3/20\n",
            "50/50 [==============================] - 12s 222ms/step - loss: 0.6884 - binary_accuracy: 0.5496 - val_loss: 0.6531 - val_binary_accuracy: 0.7360\n",
            "Epoch 4/20\n",
            "50/50 [==============================] - 12s 216ms/step - loss: 0.6100 - binary_accuracy: 0.7271 - val_loss: 0.4549 - val_binary_accuracy: 0.7995\n",
            "Epoch 5/20\n",
            "50/50 [==============================] - 12s 215ms/step - loss: 0.3441 - binary_accuracy: 0.8576 - val_loss: 0.3272 - val_binary_accuracy: 0.8553\n",
            "Epoch 6/20\n",
            "50/50 [==============================] - 11s 187ms/step - loss: 0.2622 - binary_accuracy: 0.8877 - val_loss: 0.2439 - val_binary_accuracy: 0.9061\n",
            "Epoch 7/20\n",
            "50/50 [==============================] - 12s 208ms/step - loss: 0.1725 - binary_accuracy: 0.9335 - val_loss: 0.2565 - val_binary_accuracy: 0.9061\n",
            "Epoch 8/20\n",
            "50/50 [==============================] - 13s 231ms/step - loss: 0.1403 - binary_accuracy: 0.9460 - val_loss: 0.5094 - val_binary_accuracy: 0.7944\n",
            "Epoch 9/20\n",
            "50/50 [==============================] - 13s 234ms/step - loss: 0.1027 - binary_accuracy: 0.9617 - val_loss: 0.3025 - val_binary_accuracy: 0.8959\n",
            "Epoch 10/20\n",
            "50/50 [==============================] - 12s 220ms/step - loss: 0.0334 - binary_accuracy: 0.9950 - val_loss: 0.2894 - val_binary_accuracy: 0.9036\n",
            "Epoch 11/20\n",
            "50/50 [==============================] - 12s 224ms/step - loss: 0.0142 - binary_accuracy: 0.9994 - val_loss: 0.2830 - val_binary_accuracy: 0.9112\n",
            "Epoch 12/20\n",
            "50/50 [==============================] - 11s 206ms/step - loss: 0.0098 - binary_accuracy: 0.9994 - val_loss: 0.3118 - val_binary_accuracy: 0.9086\n",
            "Epoch 13/20\n",
            "50/50 [==============================] - 10s 181ms/step - loss: 0.0062 - binary_accuracy: 0.9994 - val_loss: 0.3091 - val_binary_accuracy: 0.9010\n",
            "Epoch 14/20\n",
            "50/50 [==============================] - 11s 186ms/step - loss: 0.0044 - binary_accuracy: 0.9994 - val_loss: 0.3470 - val_binary_accuracy: 0.8883\n",
            "Epoch 15/20\n",
            "50/50 [==============================] - 12s 218ms/step - loss: 0.0038 - binary_accuracy: 0.9994 - val_loss: 0.3406 - val_binary_accuracy: 0.9010\n",
            "Epoch 16/20\n",
            "50/50 [==============================] - 13s 227ms/step - loss: 0.0028 - binary_accuracy: 0.9994 - val_loss: 0.3220 - val_binary_accuracy: 0.9137\n",
            "Epoch 17/20\n",
            "50/50 [==============================] - 13s 230ms/step - loss: 0.0023 - binary_accuracy: 0.9994 - val_loss: 0.3299 - val_binary_accuracy: 0.9112\n",
            "Epoch 18/20\n",
            "50/50 [==============================] - 12s 211ms/step - loss: 0.0020 - binary_accuracy: 0.9994 - val_loss: 0.3298 - val_binary_accuracy: 0.9137\n",
            "Epoch 19/20\n",
            "50/50 [==============================] - 13s 239ms/step - loss: 0.0019 - binary_accuracy: 0.9994 - val_loss: 0.3422 - val_binary_accuracy: 0.9061\n",
            "Epoch 20/20\n",
            "50/50 [==============================] - 12s 215ms/step - loss: 0.0018 - binary_accuracy: 0.9994 - val_loss: 0.3378 - val_binary_accuracy: 0.9061\n"
          ]
        }
      ]
    },
    {
      "cell_type": "code",
      "source": [
        "plt.plot(history.history['binary_accuracy'], label='train')\n",
        "plt.plot(history.history['val_binary_accuracy'], label='val')\n",
        "plt.xticks(np.arange(20))\n",
        "plt.legend()"
      ],
      "metadata": {
        "colab": {
          "base_uri": "https://localhost:8080/",
          "height": 447
        },
        "id": "yuMFW0R_AatL",
        "outputId": "0a698eba-ad97-40fc-8791-6b2a9176ed96"
      },
      "execution_count": 4,
      "outputs": [
        {
          "output_type": "execute_result",
          "data": {
            "text/plain": [
              "<matplotlib.legend.Legend at 0x7acc4b92af50>"
            ]
          },
          "metadata": {},
          "execution_count": 4
        },
        {
          "output_type": "display_data",
          "data": {
            "text/plain": [
              "<Figure size 640x480 with 1 Axes>"
            ],
            "image/png": "[encoded data removed]"
          },
          "metadata": {}
        }
      ]
    },
    {
      "cell_type": "code",
      "source": [
        "model.summary()"
      ],
      "metadata": {
        "id": "Y1YdLVS88ePn",
        "colab": {
          "base_uri": "https://localhost:8080/"
        },
        "outputId": "4d34293b-4aed-4739-e0b0-ce43735b335d"
      },
      "execution_count": 15,
      "outputs": [
        {
          "output_type": "stream",
          "name": "stdout",
          "text": [
            "Model: \"sequential_11\"\n",
            "_________________________________________________________________\n",
            " Layer (type)                Output Shape              Param #   \n",
            "=================================================================\n",
            " conv2d_5 (Conv2D)           (None, 148, 148, 32)      896       \n",
            "                                                                 \n",
            " dropout_5 (Dropout)         (None, 148, 148, 32)      0         \n",
            "                                                                 \n",
            " layer_normalization_4 (Lay  (None, 148, 148, 32)      64        \n",
            " erNormalization)                                                \n",
            "                                                                 \n",
            " max_pooling2d_5 (MaxPoolin  (None, 74, 74, 32)        0         \n",
            " g2D)                                                            \n",
            "                                                                 \n",
            " flatten_5 (Flatten)         (None, 175232)            0         \n",
            "                                                                 \n",
            " dense_10 (Dense)            (None, 64)                11214912  \n",
            "                                                                 \n",
            " dense_11 (Dense)            (None, 1)                 65        \n",
            "                                                                 \n",
            "=================================================================\n",
            "Total params: 11215937 (42.79 MB)\n",
            "Trainable params: 11215937 (42.79 MB)\n",
            "Non-trainable params: 0 (0.00 Byte)\n",
            "_________________________________________________________________\n"
          ]
        }
      ]
    },
    {
      "cell_type": "code",
      "source": [
        "history.history"
      ],
      "metadata": {
        "colab": {
          "base_uri": "https://localhost:8080/"
        },
        "id": "AaaRgIbgV7Bv",
        "outputId": "a11c3d41-6de4-4780-a935-715cb873a1d6"
      },
      "execution_count": 33,
      "outputs": [
        {
          "output_type": "execute_result",
          "data": {
            "text/plain": [
              "{'loss': [1.4132323265075684,\n",
              "  0.647178053855896,\n",
              "  0.6926447153091431,\n",
              "  0.6859438419342041,\n",
              "  0.6923246383666992,\n",
              "  0.6784428358078003,\n",
              "  0.6398996114730835,\n",
              "  0.5704891085624695,\n",
              "  0.5303513407707214,\n",
              "  0.5189499855041504,\n",
              "  0.45597296953201294,\n",
              "  0.43455037474632263,\n",
              "  0.4165167808532715,\n",
              "  0.3501817286014557,\n",
              "  0.29605937004089355,\n",
              "  0.2087230384349823,\n",
              "  0.23442944884300232,\n",
              "  0.22902292013168335,\n",
              "  0.12480071932077408,\n",
              "  0.1223217099905014],\n",
              " 'binary_accuracy': [0.518193244934082,\n",
              "  0.6624842882156372,\n",
              "  0.5169385075569153,\n",
              "  0.5514429211616516,\n",
              "  0.520075261592865,\n",
              "  0.5734002590179443,\n",
              "  0.6700125336647034,\n",
              "  0.7678795456886292,\n",
              "  0.797365128993988,\n",
              "  0.8067753911018372,\n",
              "  0.8494353890419006,\n",
              "  0.8538268804550171,\n",
              "  0.8513174653053284,\n",
              "  0.8575909733772278,\n",
              "  0.8883312344551086,\n",
              "  0.9253450632095337,\n",
              "  0.9190714955329895,\n",
              "  0.922208309173584,\n",
              "  0.9579674005508423,\n",
              "  0.9466750025749207],\n",
              " 'val_loss': [0.6776543855667114,\n",
              "  0.6938186287879944,\n",
              "  0.694088876247406,\n",
              "  0.6942296028137207,\n",
              "  0.6943000555038452,\n",
              "  0.6821654438972473,\n",
              "  0.6297311782836914,\n",
              "  0.5249456167221069,\n",
              "  0.5866791605949402,\n",
              "  0.5106517672538757,\n",
              "  0.5898066759109497,\n",
              "  0.5749258995056152,\n",
              "  0.4664021134376526,\n",
              "  0.38102811574935913,\n",
              "  0.340734601020813,\n",
              "  0.46691352128982544,\n",
              "  0.33275315165519714,\n",
              "  0.32390835881233215,\n",
              "  0.33064940571784973,\n",
              "  0.3521750271320343],\n",
              " 'val_binary_accuracy': [0.5786802172660828,\n",
              "  0.5,\n",
              "  0.4974619150161743,\n",
              "  0.5,\n",
              "  0.4974619150161743,\n",
              "  0.5786802172660828,\n",
              "  0.6852791905403137,\n",
              "  0.817258894443512,\n",
              "  0.700507640838623,\n",
              "  0.7918781638145447,\n",
              "  0.6725888252258301,\n",
              "  0.6802030205726624,\n",
              "  0.8096446990966797,\n",
              "  0.8375634551048279,\n",
              "  0.8629441857337952,\n",
              "  0.7842639684677124,\n",
              "  0.8502538204193115,\n",
              "  0.8629441857337952,\n",
              "  0.8477157354354858,\n",
              "  0.8375634551048279]}"
            ]
          },
          "metadata": {},
          "execution_count": 33
        }
      ]
    },
    {
      "cell_type": "code",
      "source": [
        "from tensorflow.keras.preprocessing.image import ImageDataGenerator\n",
        "train_datagen = ImageDataGenerator(\n",
        "    rescale=1./255,\n",
        ")\n",
        "\n",
        "val_datagen = ImageDataGenerator(\n",
        "    rescale=1./255\n",
        ")\n",
        "\n",
        "train_generator = train_datagen.flow_from_directory(\n",
        "    '/content/drive/MyDrive/dino-dragon.zip (Unzipped Files)/train',\n",
        "    class_mode = 'binary',\n",
        "    batch_size=20,\n",
        "    target_size=(150, 150),\n",
        "    shuffle = True\n",
        ")\n",
        "\n",
        "val_generator = val_datagen.flow_from_directory(\n",
        "    '/content/drive/MyDrive/dino-dragon.zip (Unzipped Files)/test',\n",
        "    class_mode = 'binary',\n",
        "    batch_size=20,\n",
        "    target_size=(150, 150),\n",
        "    shuffle = True\n",
        ")\n",
        "model = keras.Sequential()\n",
        "model = keras.Sequential([\n",
        "    keras.Input(shape=(150, 150, 3)),\n",
        "    keras.layers.Conv2D(32, (3, 3), activation='relu'),\n",
        "    keras.layers.Dropout(0.4),\n",
        "    keras.layers.LayerNormalization(axis=-1),\n",
        "    keras.layers.MaxPooling2D(pool_size=(2, 2)),\n",
        "    keras.layers.Flatten(),\n",
        "    keras.layers.Dense(64, activation='relu'),\n",
        "    keras.layers.Dense(1, activation='sigmoid')\n",
        "])\n",
        "\n",
        "opt = keras.optimizers.SGD(learning_rate=0.002, momentum=0.8)\n",
        "loss = keras.losses.BinaryCrossentropy(from_logits=False)\n",
        "model.compile(optimizer=opt, loss=loss, metrics=[keras.metrics.BinaryAccuracy(threshold=0.5)])\n",
        "history_1 = model.fit(train_ds, epochs=20, validation_data=val_ds)"
      ],
      "metadata": {
        "colab": {
          "base_uri": "https://localhost:8080/"
        },
        "id": "XMKAkWAu8eFR",
        "outputId": "5a49ced8-0eb4-4956-d56a-464fb7390eec"
      },
      "execution_count": 19,
      "outputs": [
        {
          "output_type": "stream",
          "name": "stdout",
          "text": [
            "Found 1594 images belonging to 2 classes.\n",
            "Found 394 images belonging to 2 classes.\n",
            "Epoch 1/20\n",
            "50/50 [==============================] - 14s 175ms/step - loss: 1.6116 - binary_accuracy: 0.5056 - val_loss: 0.6923 - val_binary_accuracy: 0.5406\n",
            "Epoch 2/20\n",
            "50/50 [==============================] - 9s 172ms/step - loss: 0.6932 - binary_accuracy: 0.5151 - val_loss: 0.6945 - val_binary_accuracy: 0.5000\n",
            "Epoch 3/20\n",
            "50/50 [==============================] - 8s 150ms/step - loss: 0.6774 - binary_accuracy: 0.5828 - val_loss: 0.7342 - val_binary_accuracy: 0.5051\n",
            "Epoch 4/20\n",
            "50/50 [==============================] - 9s 159ms/step - loss: 0.5410 - binary_accuracy: 0.7415 - val_loss: 0.7805 - val_binary_accuracy: 0.6218\n",
            "Epoch 5/20\n",
            "50/50 [==============================] - 10s 179ms/step - loss: 0.5836 - binary_accuracy: 0.6888 - val_loss: 0.5844 - val_binary_accuracy: 0.7259\n",
            "Epoch 6/20\n",
            "50/50 [==============================] - 9s 171ms/step - loss: 0.4650 - binary_accuracy: 0.8231 - val_loss: 0.4553 - val_binary_accuracy: 0.7766\n",
            "Epoch 7/20\n",
            "50/50 [==============================] - 8s 154ms/step - loss: 0.3625 - binary_accuracy: 0.8419 - val_loss: 0.3394 - val_binary_accuracy: 0.8629\n",
            "Epoch 8/20\n",
            "50/50 [==============================] - 10s 171ms/step - loss: 0.3015 - binary_accuracy: 0.8676 - val_loss: 0.5497 - val_binary_accuracy: 0.7437\n",
            "Epoch 9/20\n",
            "50/50 [==============================] - 11s 209ms/step - loss: 0.3353 - binary_accuracy: 0.8482 - val_loss: 0.3197 - val_binary_accuracy: 0.8579\n",
            "Epoch 10/20\n",
            "50/50 [==============================] - 9s 151ms/step - loss: 0.2670 - binary_accuracy: 0.8852 - val_loss: 0.4319 - val_binary_accuracy: 0.8173\n",
            "Epoch 11/20\n",
            "50/50 [==============================] - 10s 176ms/step - loss: 0.2236 - binary_accuracy: 0.9153 - val_loss: 0.3681 - val_binary_accuracy: 0.8579\n",
            "Epoch 12/20\n",
            "50/50 [==============================] - 9s 168ms/step - loss: 0.1743 - binary_accuracy: 0.9360 - val_loss: 0.3116 - val_binary_accuracy: 0.8807\n",
            "Epoch 13/20\n",
            "50/50 [==============================] - 8s 151ms/step - loss: 0.1923 - binary_accuracy: 0.9134 - val_loss: 0.4600 - val_binary_accuracy: 0.8401\n",
            "Epoch 14/20\n",
            "50/50 [==============================] - 9s 149ms/step - loss: 0.1195 - binary_accuracy: 0.9536 - val_loss: 0.3270 - val_binary_accuracy: 0.8706\n",
            "Epoch 15/20\n",
            "50/50 [==============================] - 10s 177ms/step - loss: 0.2841 - binary_accuracy: 0.9147 - val_loss: 0.5131 - val_binary_accuracy: 0.8299\n",
            "Epoch 16/20\n",
            "50/50 [==============================] - 10s 178ms/step - loss: 0.5507 - binary_accuracy: 0.7233 - val_loss: 0.5772 - val_binary_accuracy: 0.6904\n",
            "Epoch 17/20\n",
            "50/50 [==============================] - 9s 157ms/step - loss: 0.4081 - binary_accuracy: 0.8588 - val_loss: 2.4501 - val_binary_accuracy: 0.5330\n",
            "Epoch 18/20\n",
            "50/50 [==============================] - 10s 171ms/step - loss: 0.6906 - binary_accuracy: 0.5772 - val_loss: 0.6939 - val_binary_accuracy: 0.5025\n",
            "Epoch 19/20\n",
            "50/50 [==============================] - 10s 178ms/step - loss: 0.6688 - binary_accuracy: 0.4812 - val_loss: 0.5952 - val_binary_accuracy: 0.5025\n",
            "Epoch 20/20\n",
            "50/50 [==============================] - 9s 171ms/step - loss: 0.5795 - binary_accuracy: 0.5408 - val_loss: 0.5440 - val_binary_accuracy: 0.7893\n"
          ]
        }
      ]
    },
    {
      "cell_type": "code",
      "source": [
        "plt.plot(history_1.history['binary_accuracy'], label='train')\n",
        "plt.plot(history_1.history['val_binary_accuracy'], label='val')\n",
        "plt.xticks(np.arange(20))\n",
        "plt.legend()"
      ],
      "metadata": {
        "id": "OPmBe8gX8d-o",
        "colab": {
          "base_uri": "https://localhost:8080/",
          "height": 447
        },
        "outputId": "99e80d02-047a-4fe6-f578-ae0c629817a8"
      },
      "execution_count": 20,
      "outputs": [
        {
          "output_type": "execute_result",
          "data": {
            "text/plain": [
              "<matplotlib.legend.Legend at 0x7acb6a3d57e0>"
            ]
          },
          "metadata": {},
          "execution_count": 20
        },
        {
          "output_type": "display_data",
          "data": {
            "text/plain": [
              "<Figure size 640x480 with 1 Axes>"
            ],
            "image/png": "[encoded data removed]"
          },
          "metadata": {}
        }
      ]
    },
    {
      "cell_type": "code",
      "source": [
        "history_1.history"
      ],
      "metadata": {
        "colab": {
          "base_uri": "https://localhost:8080/"
        },
        "id": "MZZnabSWUMQb",
        "outputId": "e8cb1a5e-a877-4bf2-ace2-0ec403101c52"
      },
      "execution_count": 34,
      "outputs": [
        {
          "output_type": "execute_result",
          "data": {
            "text/plain": [
              "{'loss': [1.61164128780365,\n",
              "  0.6932248473167419,\n",
              "  0.677410364151001,\n",
              "  0.5410104393959045,\n",
              "  0.5835601091384888,\n",
              "  0.4650091230869293,\n",
              "  0.36250948905944824,\n",
              "  0.301547110080719,\n",
              "  0.33529597520828247,\n",
              "  0.2670283913612366,\n",
              "  0.22359313070774078,\n",
              "  0.17430061101913452,\n",
              "  0.19234390556812286,\n",
              "  0.11946982890367508,\n",
              "  0.2840755879878998,\n",
              "  0.5507259368896484,\n",
              "  0.40805816650390625,\n",
              "  0.6905999183654785,\n",
              "  0.6688076257705688,\n",
              "  0.5794903635978699],\n",
              " 'binary_accuracy': [0.5056461691856384,\n",
              "  0.5150564908981323,\n",
              "  0.5828105211257935,\n",
              "  0.74153071641922,\n",
              "  0.6888331174850464,\n",
              "  0.8230865597724915,\n",
              "  0.8419071435928345,\n",
              "  0.8676286339759827,\n",
              "  0.8481806516647339,\n",
              "  0.8851944804191589,\n",
              "  0.9153074026107788,\n",
              "  0.9360100626945496,\n",
              "  0.9134253263473511,\n",
              "  0.9535759091377258,\n",
              "  0.9146800637245178,\n",
              "  0.7233375310897827,\n",
              "  0.8588456511497498,\n",
              "  0.577164351940155,\n",
              "  0.481179416179657,\n",
              "  0.5407779216766357],\n",
              " 'val_loss': [0.692322850227356,\n",
              "  0.6944722533226013,\n",
              "  0.7341539263725281,\n",
              "  0.7804591059684753,\n",
              "  0.584388256072998,\n",
              "  0.45534008741378784,\n",
              "  0.3394264280796051,\n",
              "  0.5497116446495056,\n",
              "  0.31966060400009155,\n",
              "  0.4318680465221405,\n",
              "  0.3680706024169922,\n",
              "  0.3116302490234375,\n",
              "  0.4600408673286438,\n",
              "  0.3269621431827545,\n",
              "  0.5130999088287354,\n",
              "  0.5771933794021606,\n",
              "  2.4501142501831055,\n",
              "  0.6939255595207214,\n",
              "  0.5952237248420715,\n",
              "  0.5440323948860168],\n",
              " 'val_binary_accuracy': [0.5406091213226318,\n",
              "  0.5,\n",
              "  0.5050761699676514,\n",
              "  0.6218274235725403,\n",
              "  0.7258883118629456,\n",
              "  0.7766497731208801,\n",
              "  0.8629441857337952,\n",
              "  0.7436548471450806,\n",
              "  0.8578680157661438,\n",
              "  0.817258894443512,\n",
              "  0.8578680157661438,\n",
              "  0.8807106614112854,\n",
              "  0.8401015400886536,\n",
              "  0.8705583810806274,\n",
              "  0.8299492597579956,\n",
              "  0.6903553009033203,\n",
              "  0.5329949259757996,\n",
              "  0.5025380849838257,\n",
              "  0.5025380849838257,\n",
              "  0.789340078830719]}"
            ]
          },
          "metadata": {},
          "execution_count": 34
        }
      ]
    },
    {
      "cell_type": "code",
      "source": [
        "from tensorflow.keras.preprocessing.image import ImageDataGenerator\n",
        "\n",
        "train_datagen = ImageDataGenerator(\n",
        "    rotation_range=40,\n",
        "    width_shift_range=0.2,\n",
        "    height_shift_range=0.2,\n",
        "    shear_range=0.2,\n",
        "    zoom_range=0.2,\n",
        "    horizontal_flip=True,\n",
        "    rescale=1./255,\n",
        "\n",
        ")\n",
        "\n",
        "val_datagen = ImageDataGenerator(\n",
        "    rescale=1./255\n",
        ")\n",
        "\n",
        "train_generator = train_datagen.flow_from_directory(\n",
        "    '/content/drive/MyDrive/dino-dragon.zip (Unzipped Files)/train',\n",
        "    class_mode = 'binary',\n",
        "    batch_size=32,\n",
        "    target_size=(150, 150),\n",
        "    shuffle = True\n",
        ")\n",
        "\n",
        "val_generator = val_datagen.flow_from_directory(\n",
        "    '/content/drive/MyDrive/dino-dragon.zip (Unzipped Files)/test',\n",
        "    class_mode = 'binary',\n",
        "    batch_size=32,\n",
        "    target_size=(150, 150),\n",
        "    shuffle = True\n",
        ")\n",
        "\n",
        "chechpoint = keras.callbacks.ModelCheckpoint(\n",
        "    'xception_v1_{epoch:02d}_{val_binary_accuracy:.3f}.h5',\n",
        "    save_best_only=True,\n",
        "    monitor='val_binary_accuracy',\n",
        "    mode='max'\n",
        ")\n",
        "history_2 = model.fit(train_generator, initial_epoch=20, epochs=30, validation_data=val_generator, callbacks=[chechpoint])"
      ],
      "metadata": {
        "colab": {
          "base_uri": "https://localhost:8080/"
        },
        "id": "ksF2jZJVJR_k",
        "outputId": "7b6825a6-f3f8-4fa6-8389-d75a49cdcc9e"
      },
      "execution_count": 85,
      "outputs": [
        {
          "output_type": "stream",
          "name": "stdout",
          "text": [
            "Found 1594 images belonging to 2 classes.\n",
            "Found 394 images belonging to 2 classes.\n",
            "Epoch 21/30\n",
            "50/50 [==============================] - 23s 448ms/step - loss: 0.2933 - binary_accuracy: 0.8808 - val_loss: 0.5089 - val_binary_accuracy: 0.8350\n",
            "Epoch 22/30\n",
            "50/50 [==============================] - 24s 487ms/step - loss: 0.3064 - binary_accuracy: 0.8739 - val_loss: 0.3325 - val_binary_accuracy: 0.8756\n",
            "Epoch 23/30\n",
            "50/50 [==============================] - 23s 450ms/step - loss: 0.3049 - binary_accuracy: 0.8720 - val_loss: 0.2989 - val_binary_accuracy: 0.8883\n",
            "Epoch 24/30\n",
            "50/50 [==============================] - 22s 432ms/step - loss: 0.3278 - binary_accuracy: 0.8582 - val_loss: 0.3045 - val_binary_accuracy: 0.8883\n",
            "Epoch 25/30\n",
            "50/50 [==============================] - 22s 438ms/step - loss: 0.3077 - binary_accuracy: 0.8733 - val_loss: 0.2730 - val_binary_accuracy: 0.8985\n",
            "Epoch 26/30\n",
            "50/50 [==============================] - 22s 429ms/step - loss: 0.2929 - binary_accuracy: 0.8752 - val_loss: 0.2989 - val_binary_accuracy: 0.8807\n",
            "Epoch 27/30\n",
            "50/50 [==============================] - 22s 435ms/step - loss: 0.2879 - binary_accuracy: 0.8877 - val_loss: 0.2945 - val_binary_accuracy: 0.8909\n",
            "Epoch 28/30\n",
            "50/50 [==============================] - 21s 425ms/step - loss: 0.2891 - binary_accuracy: 0.8783 - val_loss: 0.2970 - val_binary_accuracy: 0.8934\n",
            "Epoch 29/30\n",
            "50/50 [==============================] - 24s 480ms/step - loss: 0.2762 - binary_accuracy: 0.8877 - val_loss: 0.2787 - val_binary_accuracy: 0.9010\n",
            "Epoch 30/30\n",
            "50/50 [==============================] - 21s 420ms/step - loss: 0.2801 - binary_accuracy: 0.8808 - val_loss: 0.4125 - val_binary_accuracy: 0.8579\n"
          ]
        }
      ]
    },
    {
      "cell_type": "code",
      "source": [
        "plt.plot(history_2.history['binary_accuracy'], label='train')\n",
        "plt.plot(history_2.history['val_binary_accuracy'], label='val')\n",
        "plt.xticks(np.arange(10))\n",
        "plt.legend()"
      ],
      "metadata": {
        "colab": {
          "base_uri": "https://localhost:8080/",
          "height": 447
        },
        "id": "d-dmc8e-JR87",
        "outputId": "c3d37e82-037d-4d6e-ce20-769ac74d4830"
      },
      "execution_count": 86,
      "outputs": [
        {
          "output_type": "execute_result",
          "data": {
            "text/plain": [
              "<matplotlib.legend.Legend at 0x7acb6a493910>"
            ]
          },
          "metadata": {},
          "execution_count": 86
        },
        {
          "output_type": "display_data",
          "data": {
            "text/plain": [
              "<Figure size 640x480 with 1 Axes>"
            ],
            "image/png": "[encoded data removed]"
          },
          "metadata": {}
        }
      ]
    },
    {
      "cell_type": "code",
      "source": [
        "history_2.history"
      ],
      "metadata": {
        "colab": {
          "base_uri": "https://localhost:8080/"
        },
        "id": "XM5KqlclWIdV",
        "outputId": "278a15ad-6b51-4e05-cded-2cb05fa66b4b"
      },
      "execution_count": 87,
      "outputs": [
        {
          "output_type": "execute_result",
          "data": {
            "text/plain": [
              "{'loss': [0.29332587122917175,\n",
              "  0.30639591813087463,\n",
              "  0.30490753054618835,\n",
              "  0.3277531862258911,\n",
              "  0.3077279031276703,\n",
              "  0.29294097423553467,\n",
              "  0.28794193267822266,\n",
              "  0.2891368865966797,\n",
              "  0.2761891484260559,\n",
              "  0.28014519810676575],\n",
              " 'binary_accuracy': [0.8808029890060425,\n",
              "  0.8739021420478821,\n",
              "  0.8720200657844543,\n",
              "  0.8582183122634888,\n",
              "  0.8732748031616211,\n",
              "  0.875156819820404,\n",
              "  0.8877038955688477,\n",
              "  0.8782935738563538,\n",
              "  0.8877038955688477,\n",
              "  0.8808029890060425],\n",
              " 'val_loss': [0.5089357495307922,\n",
              "  0.3325119912624359,\n",
              "  0.2988911271095276,\n",
              "  0.3045373260974884,\n",
              "  0.27300330996513367,\n",
              "  0.29890555143356323,\n",
              "  0.2945404052734375,\n",
              "  0.2969920337200165,\n",
              "  0.27867525815963745,\n",
              "  0.41254422068595886],\n",
              " 'val_binary_accuracy': [0.8350253701210022,\n",
              "  0.875634491443634,\n",
              "  0.8883248567581177,\n",
              "  0.8883248567581177,\n",
              "  0.8984771370887756,\n",
              "  0.8807106614112854,\n",
              "  0.8908629417419434,\n",
              "  0.893401026725769,\n",
              "  0.9010152220726013,\n",
              "  0.8578680157661438]}"
            ]
          },
          "metadata": {},
          "execution_count": 87
        }
      ]
    },
    {
      "cell_type": "code",
      "source": [
        "import numpy as np\n",
        "np.mean(history.history['val_binary_accuracy'])"
      ],
      "metadata": {
        "colab": {
          "base_uri": "https://localhost:8080/"
        },
        "id": "z-EQtIoOJRzj",
        "outputId": "11fe1b1e-1200-4217-9bc7-787bcfc86744"
      },
      "execution_count": 88,
      "outputs": [
        {
          "output_type": "execute_result",
          "data": {
            "text/plain": [
              "0.7096446752548218"
            ]
          },
          "metadata": {},
          "execution_count": 88
        }
      ]
    },
    {
      "cell_type": "code",
      "source": [
        "np.mean(history_1.history['val_binary_accuracy'])"
      ],
      "metadata": {
        "colab": {
          "base_uri": "https://localhost:8080/"
        },
        "id": "GKIglR29WaQU",
        "outputId": "7a126d6a-a14b-4de5-d1e7-05d753ea2576"
      },
      "execution_count": 89,
      "outputs": [
        {
          "output_type": "execute_result",
          "data": {
            "text/plain": [
              "0.7124365538358688"
            ]
          },
          "metadata": {},
          "execution_count": 89
        }
      ]
    },
    {
      "cell_type": "code",
      "source": [
        "np.mean(history_2.history['val_binary_accuracy'])"
      ],
      "metadata": {
        "colab": {
          "base_uri": "https://localhost:8080/"
        },
        "id": "FQtApAIHWaJO",
        "outputId": "6738eddd-a4da-457c-8ef4-082f9d3d3a01"
      },
      "execution_count": 90,
      "outputs": [
        {
          "output_type": "execute_result",
          "data": {
            "text/plain": [
              "0.880964457988739"
            ]
          },
          "metadata": {},
          "execution_count": 90
        }
      ]
    },
    {
      "cell_type": "code",
      "source": [
        "np.std(history.history['val_loss'])"
      ],
      "metadata": {
        "colab": {
          "base_uri": "https://localhost:8080/"
        },
        "id": "RWdNdov6JRws",
        "outputId": "ee4da09f-4430-43a1-c298-ad5a3bf40b09"
      },
      "execution_count": 91,
      "outputs": [
        {
          "output_type": "execute_result",
          "data": {
            "text/plain": [
              "0.1397285238127573"
            ]
          },
          "metadata": {},
          "execution_count": 91
        }
      ]
    },
    {
      "cell_type": "code",
      "source": [
        "np.std(history_1.history['val_loss'])"
      ],
      "metadata": {
        "colab": {
          "base_uri": "https://localhost:8080/"
        },
        "id": "4EJFLWoDJRt8",
        "outputId": "1d106dd7-ebcd-4b1f-8b32-56cbd458d186"
      },
      "execution_count": 92,
      "outputs": [
        {
          "output_type": "execute_result",
          "data": {
            "text/plain": [
              "0.44337442196088256"
            ]
          },
          "metadata": {},
          "execution_count": 92
        }
      ]
    },
    {
      "cell_type": "code",
      "source": [
        "np.std(history_2.history['val_loss'])"
      ],
      "metadata": {
        "colab": {
          "base_uri": "https://localhost:8080/"
        },
        "id": "mnfYm0lZWv90",
        "outputId": "658f3d85-6983-45fd-847b-507ddbe712e6"
      },
      "execution_count": 99,
      "outputs": [
        {
          "output_type": "execute_result",
          "data": {
            "text/plain": [
              "0.0704631637467252"
            ]
          },
          "metadata": {},
          "execution_count": 99
        }
      ]
    },
    {
      "cell_type": "code",
      "source": [
        "np.mean(history_2.history['val_binary_accuracy'][6:])"
      ],
      "metadata": {
        "id": "6f0Yz8ByAaUd",
        "colab": {
          "base_uri": "https://localhost:8080/"
        },
        "outputId": "c0f3842c-cb3c-4711-9ad3-185eaf777d3b"
      },
      "execution_count": 94,
      "outputs": [
        {
          "output_type": "execute_result",
          "data": {
            "text/plain": [
              "0.8857868015766144"
            ]
          },
          "metadata": {},
          "execution_count": 94
        }
      ]
    },
    {
      "cell_type": "code",
      "source": [
        "history_2"
      ],
      "metadata": {
        "id": "FVvrVhYTAaRl",
        "colab": {
          "base_uri": "https://localhost:8080/"
        },
        "outputId": "feefa520-7bde-4554-c71e-10d790d8472b"
      },
      "execution_count": 95,
      "outputs": [
        {
          "output_type": "execute_result",
          "data": {
            "text/plain": [
              "<keras.src.callbacks.History at 0x7acb58418d90>"
            ]
          },
          "metadata": {},
          "execution_count": 95
        }
      ]
    },
    {
      "cell_type": "code",
      "source": [
        "from tensorflow.keras.preprocessing.image import load_img\n",
        "import numpy as np\n",
        "\n",
        "img_path = '/content/drive/MyDrive/dino-dragon.zip (Unzipped Files)/DinoDragon/Драгон/1.jfif'\n",
        "img = load_img(img_path, target_size=(150, 150))\n",
        "\n",
        "img_array = np.expand_dims(img, axis=0)\n",
        "\n",
        "\n",
        "predictions = model.predict(img_array)\n",
        "\n",
        "if predictions[0] < 0.5:\n",
        "    print(\"Модель предсказывает класс 0 (дино)\")\n",
        "else:\n",
        "    print(\"Модель предсказывает класс 1 (дракон)\")\n",
        "print(predictions[0])"
      ],
      "metadata": {
        "id": "r-xBY_g1AaO9",
        "colab": {
          "base_uri": "https://localhost:8080/"
        },
        "outputId": "b19eada0-94e0-424c-a88c-2d1f3b4c1597"
      },
      "execution_count": 96,
      "outputs": [
        {
          "output_type": "stream",
          "name": "stdout",
          "text": [
            "1/1 [==============================] - 0s 21ms/step\n",
            "Модель предсказывает класс 1 (дракон)\n",
            "[0.9999505]\n"
          ]
        }
      ]
    },
    {
      "cell_type": "code",
      "source": [
        "model.save('/content/drive/MyDrive/CNN_Model/cnn_model_1.keras', overwrite=False)"
      ],
      "metadata": {
        "id": "TQanTg53AaML",
        "colab": {
          "base_uri": "https://localhost:8080/"
        },
        "outputId": "646910e9-1a18-49a6-da13-af879f5ab20f"
      },
      "execution_count": 97,
      "outputs": [
        {
          "output_type": "stream",
          "name": "stdout",
          "text": [
            "[WARNING] /content/drive/MyDrive/CNN_Model/cnn_model_1.keras already exists - overwrite? [y/n]y\n",
            "[TIP] Next time specify overwrite=True!\n"
          ]
        }
      ]
    },
    {
      "cell_type": "code",
      "source": [
        "model.save_weights('/content/drive/MyDrive/CNN_Model/cnn_layers_weights.weights.h5', overwrite=True)"
      ],
      "metadata": {
        "id": "gKK205BVAaJc"
      },
      "execution_count": 98,
      "outputs": []
    },
    {
      "cell_type": "code",
      "source": [],
      "metadata": {
        "id": "4PUHYwTViCen"
      },
      "execution_count": null,
      "outputs": []
    }
  ]
}